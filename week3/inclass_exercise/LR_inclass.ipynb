{
 "cells": [
  {
   "cell_type": "markdown",
   "metadata": {},
   "source": [
    "<a href='https://ai.meng.duke.edu'> = <img align=\"left\" style=\"padding-top:10px;\" src=https://storage.googleapis.com/aipi_datasets/Duke-AIPI-Logo.png>"
   ]
  },
  {
   "cell_type": "markdown",
   "metadata": {},
   "source": [
    "# Linear Regression\n",
    "Data available at https://www.statlearning.com/resources-first-edition\n",
    "\n",
    "We are going to be working with a dataset of compiled statistics about different car models.  Our goal is to develop a model to predict fuel efficiency (mpg) based on other known characteristics of the car and engine."
   ]
  },
  {
   "cell_type": "code",
   "execution_count": null,
   "metadata": {},
   "outputs": [],
   "source": [
    "import numpy as np\n",
    "import pandas as pd\n",
    "import matplotlib.pyplot as plt\n",
    "import seaborn as sns\n",
    "from sklearn.model_selection import train_test_split\n",
    "from sklearn.linear_model import LinearRegression\n",
    "import seaborn as sns\n",
    "from sklearn.metrics import mean_squared_error,mean_absolute_error,r2_score\n",
    "\n",
    "import warnings\n",
    "warnings.filterwarnings(\"ignore\")"
   ]
  },
  {
   "cell_type": "code",
   "execution_count": null,
   "metadata": {},
   "outputs": [],
   "source": [
    "# This downloads the csv data files into the same directory where you have saved this notebook\n",
    "import urllib.request\n",
    "from pathlib import Path\n",
    "import os\n",
    "path = Path()\n",
    "\n",
    "# Dictionary of file names and download links\n",
    "files = {'Auto.csv':'https://storage.googleapis.com/aipi_datasets/Auto.csv'}\n",
    "\n",
    "# Download each file\n",
    "for key,value in files.items():\n",
    "    filename = path/key\n",
    "    url = value\n",
    "    # If the file does not already exist in the directory, download it\n",
    "    if not os.path.exists(filename):\n",
    "        urllib.request.urlretrieve(url,filename)"
   ]
  },
  {
   "cell_type": "code",
   "execution_count": null,
   "metadata": {},
   "outputs": [],
   "source": [
    "def load_data(filename):\n",
    "    # Read in data\n",
    "    data = pd.read_csv(filename)\n",
    "    # Remove rows with missing values\n",
    "    data = data[data['horsepower'] != '?'].copy()\n",
    "    return data\n",
    "\n",
    "data = load_data('Auto.csv')\n",
    "data.head()"
   ]
  },
  {
   "cell_type": "markdown",
   "metadata": {},
   "source": [
    "## Simple Linear Regression\n",
    "Let's start with a simple linear regression and create a model for mpg using only horsepower as an input"
   ]
  },
  {
   "cell_type": "code",
   "execution_count": null,
   "metadata": {},
   "outputs": [],
   "source": [
    "def prep_data(data,pct):\n",
    "    # Define the features and response (X and y)\n",
    "    X = data['horsepower'].astype(int).values.reshape(-1,1)\n",
    "    y = data['mpg'].astype(float)\n",
    "\n",
    "    # Split into training and test sets\n",
    "    X_train,X_test,y_train,y_test = train_test_split(X, y, random_state=0,test_size=pct)\n",
    "    return X_train,X_test,y_train,y_test\n",
    "\n",
    "X_train,X_test,y_train,y_test = prep_data(data,pct=0.2)"
   ]
  },
  {
   "cell_type": "code",
   "execution_count": null,
   "metadata": {},
   "outputs": [],
   "source": [
    "def run_lr(X_train,y_train,X_test):\n",
    "    # Let's use a Simple Linear Regression model\n",
    "    model = LinearRegression()\n",
    "\n",
    "    # Train the model on the training data\n",
    "    model.fit(X_train,y_train)\n",
    "\n",
    "    # Get the predictions\n",
    "    train_preds = model.predict(X_train)\n",
    "    test_preds = model.predict(X_test)\n",
    "\n",
    "    return train_preds, test_preds, model"
   ]
  },
  {
   "cell_type": "code",
   "execution_count": null,
   "metadata": {},
   "outputs": [],
   "source": [
    "train_preds, test_preds, model = run_lr(X_train,y_train,X_test)\n",
    "\n",
    "# Calculate MSE\n",
    "train_mse = 1/len(y_train)*np.sum((train_preds-y_train)**2)\n",
    "test_mse = 1/len(y_test)*np.sum((test_preds-y_test)**2)\n",
    "print('MSE train: {:.3f}, test: {:.3f}'.format(train_mse,test_mse))\n",
    "\n",
    "# Look at how well the model is fitting the data\n",
    "plt.figure(figsize=(8,6))\n",
    "plt.scatter(X_train,y_train,color='orange',edgecolor='white',s=30,label='train') # Plot training data\n",
    "plt.scatter(X_test,y_test,color='steelblue',edgecolor='white',s=30,alpha=0.6,label='test') # Plot test data\n",
    "plt.plot(X_train,train_preds,color='red',lw=2,label='predictions') # Plot predictions\n",
    "plt.xlabel('horsepower')\n",
    "plt.ylabel('mpg')\n",
    "plt.legend()\n",
    "plt.show()"
   ]
  },
  {
   "cell_type": "markdown",
   "metadata": {},
   "source": [
    "## Multiple Linear Regression\n",
    "Now let's create a new model using additional numerical features"
   ]
  },
  {
   "cell_type": "code",
   "execution_count": null,
   "metadata": {},
   "outputs": [],
   "source": [
    "def prep_data_allfeats(data,pct):\n",
    "    # Define the features and response (X and y)\n",
    "    X = data[['cylinders','displacement','horsepower','weight','acceleration','year']].copy().astype(int)\n",
    "    y = data['mpg'].copy().astype(float)\n",
    "\n",
    "    # Split into training and test sets\n",
    "    X_train,X_test,y_train,y_test = train_test_split(X, y, random_state=0,test_size=pct)\n",
    "    return X_train,X_test,y_train,y_test"
   ]
  },
  {
   "cell_type": "code",
   "execution_count": null,
   "metadata": {},
   "outputs": [],
   "source": [
    "# Split our data and run the model\n",
    "X_train,X_test,y_train,y_test = prep_data_allfeats(data,pct=0.2)\n",
    "train_preds, test_preds, model = run_lr(X_train,y_train,X_test)\n",
    "\n",
    "# Calculate MSE\n",
    "train_mse = 1/len(y_train)*np.sum((train_preds-y_train)**2)\n",
    "test_mse = 1/len(y_test)*np.sum((test_preds-y_test)**2)\n",
    "print('MSE train: {:.3f}, test: {:.3f}'.format(train_mse,test_mse))"
   ]
  },
  {
   "cell_type": "code",
   "execution_count": null,
   "metadata": {},
   "outputs": [],
   "source": [
    "# Look at the coefficients of our model\n",
    "coef = model.coef_\n",
    "intercept = model.intercept_\n",
    "\n",
    "# Print out the equation\n",
    "equation = 'y = {:.3f} + '.format(intercept) + ' + '.join(['{:.3f}*{}'.format(coef,var) for coef,var in zip(coef,X_train.columns)])\n",
    "print(equation)"
   ]
  },
  {
   "cell_type": "markdown",
   "metadata": {},
   "source": [
    "### *Using your intuition about car engines, do you think the sign (+/-) of these coefficients makes sense given the relationships between these variables and engine fuel economy?*"
   ]
  },
  {
   "cell_type": "markdown",
   "metadata": {},
   "source": [
    "### Check for collinearity of features"
   ]
  },
  {
   "cell_type": "code",
   "execution_count": null,
   "metadata": {},
   "outputs": [],
   "source": [
    "# Examine correlations between variables using correlation matrix\n",
    "plt.figure(figsize=(10,8))\n",
    "cm = X_train.corr(method='pearson')\n",
    "sns.heatmap(cm, annot=True, cmap = 'RdBu_r',linewidth=0.5,square=True)\n",
    "plt.show()"
   ]
  },
  {
   "cell_type": "markdown",
   "metadata": {},
   "source": [
    "## Reduce Feature Set\n",
    "Since we have high collinearity between several of our features, let's try modeling again using a reduced feature set.  Complete the below function to train and evaluate a model using the reduced set of features provided as input.\n",
    "\n",
    "Your function should do the following:  \n",
    "- Split your data into the input set and targets, and then split into training and test sets  \n",
    "- Train a model on the training data, and then calculate and display the MSE on the training set and test set  \n",
    "- Display the equation of your trained model"
   ]
  },
  {
   "cell_type": "code",
   "execution_count": null,
   "metadata": {},
   "outputs": [],
   "source": [
    "def model_lessfeats(data,feats,pct):\n",
    "    '''\n",
    "    Train and evaluate a linear regression model using the features provided\n",
    "\n",
    "    Inputs:\n",
    "        data(pd.DataFrame): raw data\n",
    "        feats(list): list of features to include\n",
    "        pct(float): percentage of data to use for the test set\n",
    "\n",
    "    Returns:\n",
    "        train_mse(float): MSE on the training set\n",
    "        test_mse(float): MSE on the test set\n",
    "        equation(str): equation of your model as a string\n",
    "    '''\n",
    "    ### BEGIN SOLUTION ###\n",
    "    \n",
    "    \n",
    "    ### END SOLUTION ###\n",
    "\n",
    "feats = ['horsepower','displacement','acceleration','year']\n",
    "train_mse, test_mse, equation = model_lessfeats(data,feats,pct=0.2)\n",
    "print('MSE train: {:.3f}, test: {:.3f}'.format(train_mse,test_mse))\n",
    "print(equation)"
   ]
  },
  {
   "cell_type": "markdown",
   "metadata": {},
   "source": [
    "### *How did the modeled relationship between the remaining features and the target change as we removed the collinear variables?  Did any of the relationships change from positive correlation to negative? Do you now think that the coefficients make sense?*"
   ]
  },
  {
   "cell_type": "markdown",
   "metadata": {},
   "source": [
    "## Polynomial Regression\n",
    "Let's now see if we can improve our performance on this task using a polynomial regression model rather than a degree-1 standard linear regression.\n",
    "\n",
    "To easily implement polynomial regression in Scikit Learn we can use the PolynomialFeatures class to transform our input data to any degree"
   ]
  },
  {
   "cell_type": "code",
   "execution_count": null,
   "metadata": {},
   "outputs": [],
   "source": [
    "# Example of using PolynomialFeatures\n",
    "from sklearn.preprocessing import PolynomialFeatures\n",
    "x = np.array([[2], [3], [4]])\n",
    "poly = PolynomialFeatures(3, include_bias=True)\n",
    "x_transform = poly.fit_transform(x)\n",
    "print('Original inputs:')\n",
    "print(x)\n",
    "print('Inputs after polynomial transformation')\n",
    "print(x_transform)\n"
   ]
  },
  {
   "cell_type": "markdown",
   "metadata": {},
   "source": [
    "Complete the below function `train_poly()` which fits a polynomial regression of the specified degree on the training data.  The function should return the polynomial transform and the trained model."
   ]
  },
  {
   "cell_type": "code",
   "execution_count": null,
   "metadata": {},
   "outputs": [],
   "source": [
    "def train_poly(X_train,y_train,degree):\n",
    "    '''\n",
    "    Create polynomial features and trains a linear model on them\n",
    "\n",
    "    Inputs:\n",
    "        X_train(np.ndarray): Training set inputs\n",
    "        y_train(np.ndarray): Training set targets\n",
    "        degree: degree of polynomial regression\n",
    "\n",
    "    Returns:\n",
    "        poly_transform(sklearn.preprocessing.PolynomialFeatures): polynomial transform used\n",
    "        poly_model(sklearn.base.BaseEstimator): trained polynomial regression model\n",
    "    '''\n",
    "    ### BEGIN SOLUTION ###\n",
    "\n",
    "    \n",
    "\n",
    "    ### END SOLUTION ###"
   ]
  },
  {
   "cell_type": "markdown",
   "metadata": {},
   "source": [
    "Now run the following cell to test your polynomial regression function and take note of its performance on the training and test sets relative to the performance of the standard degree-1 linear regression model."
   ]
  },
  {
   "cell_type": "code",
   "execution_count": null,
   "metadata": {},
   "outputs": [],
   "source": [
    "def test_model(model, X_test, y_test,transform=None):\n",
    "    # Computes the MSE for a model\n",
    "    if transform is not None:\n",
    "        X_test = transform.transform(X_test)\n",
    "    preds = model.predict(X_test)\n",
    "    mse = 1/len(y_test)*np.sum((preds-y_test)**2)\n",
    "    return mse\n",
    "\n",
    "degree=2\n",
    "poly_transform, model = train_poly(X_train,y_train,degree)\n",
    "train_mse = test_model(model, X_train, y_train, poly_transform)\n",
    "test_mse = test_model(model, X_test, y_test, poly_transform)\n",
    "\n",
    "print('MSE train: {:.3f}, test: {:.3f}'.format(train_mse,test_mse))"
   ]
  }
 ],
 "metadata": {
  "kernelspec": {
   "display_name": "Python 3.9.7 ('aipi540')",
   "language": "python",
   "name": "python3"
  },
  "language_info": {
   "codemirror_mode": {
    "name": "ipython",
    "version": 3
   },
   "file_extension": ".py",
   "mimetype": "text/x-python",
   "name": "python",
   "nbconvert_exporter": "python",
   "pygments_lexer": "ipython3",
   "version": "3.11.3"
  },
  "vscode": {
   "interpreter": {
    "hash": "31cc86d7aac4849c7546154c9b56d60163d5e8a1d83593a5eed18774fbf4fd37"
   }
  }
 },
 "nbformat": 4,
 "nbformat_minor": 4
}
